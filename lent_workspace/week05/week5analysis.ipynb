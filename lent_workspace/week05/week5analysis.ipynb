{
 "cells": [
  {
   "cell_type": "code",
   "execution_count": 3,
   "metadata": {},
   "outputs": [],
   "source": [
    "# load histories for Dale-CB\n",
    "import pickle\n",
    "with open('weights/05_Dale-CB_48.pkl', 'rb') as f:\n",
    "    weights = pickle.load(f)\n",
    "    historys = pickle.load(f)\n",
    "    parameters = pickle.load(f)\n",
    "# load weights\n",
    "P, W, read_out, K, C, P_z, b_z, e_e, e_i, b_v = weights\n",
    "v_t_history, z_t_history, labelslist = historys\n",
    "input_size, hidden_size, num_layers, num_classes, batch_size, num_epochs, learning_rate, stride_number = parameters\n"
   ]
  },
  {
   "cell_type": "code",
   "execution_count": 4,
   "metadata": {},
   "outputs": [
    {
     "data": {
      "text/plain": [
       "Text(0.5, 1.0, 'Performance of different models')"
      ]
     },
     "execution_count": 4,
     "metadata": {},
     "output_type": "execute_result"
    },
    {
     "data": {
      "image/png": "[encoded data removed]",
      "text/plain": [
       "<Figure size 1000x500 with 1 Axes>"
      ]
     },
     "metadata": {},
     "output_type": "display_data"
    }
   ],
   "source": [
    "# Performance bar plot\n",
    "import matplotlib.pyplot as plt\n",
    "import numpy as np\n",
    "\n",
    "plt.figure(figsize=(10, 5))\n",
    "model_name = ['simple GRU', 'CB-GRU', 'CB-RNN-tied', 'Dale-CB', 'CB-RNN-tied STP', 'Dale-CB STP']\n",
    "\n",
    "perf1 = [91.62, 83.39, 83.95, 82.48, 75.0, 71.63]\n",
    "perf2 = [90.03, 64.96, 82.07, 85.13, 79.76, 68.31]\n",
    "\n",
    "bar_width = 0.35\n",
    "\n",
    "plt.bar(model_name, perf1, bar_width, label='24 Neurons')\n",
    "index = np.arange(len(model_name))\n",
    "plt.bar(index + bar_width, perf2, bar_width, label='48 Neurons')\n",
    "# text bar to show input size, stride number, and hidden size\n",
    "plt.text(4.5, 80, f'Input size: {input_size}\\nStride number: {stride_number}'.format(input_size=input_size, stride_number=stride_number, hidden_size=hidden_size), ha='center', va='bottom')\n",
    "plt.xlabel('Model')\n",
    "plt.ylabel('Performance')\n",
    "plt.title('Performance of different models')\n"
   ]
  },
  {
   "cell_type": "markdown",
   "metadata": {},
   "source": [
    "### Parameters"
   ]
  },
  {
   "cell_type": "code",
   "execution_count": 19,
   "metadata": {},
   "outputs": [],
   "source": [
    "import numpy as np\n",
    "def convert_history(history_list):\n",
    "    concatenated_history = []\n",
    "    for batch in history_list:\n",
    "        # Convert each tensor in the batch to numpy and append to a new list\n",
    "        batch_history = [tensor.cpu().numpy() for tensor in batch]\n",
    "        # Stack along a new dimension to keep batch data separate\n",
    "        concatenated_history.append(np.stack(batch_history))\n",
    "    # Concatenate all the batch data along the first dimension\n",
    "    return np.concatenate(concatenated_history, axis=0)\n",
    "\n",
    "\n",
    "def average_image(X_history, labelslist):\n",
    "\n",
    "    neuronimage = []\n",
    "    labelslist_array = convert_history(labelslist)\n",
    "    order= np.argsort(labelslist_array.flatten())\n",
    "    labelslist_array = labelslist_array.flatten()[order]\n",
    "    # find number of 0, 1, 2, 3, 4, 5, 6, 7, 8, 9\n",
    "    _, counts = np.unique(labelslist_array, return_counts=True)\n",
    "    X  = convert_history(X_history)\n",
    "    X = X.reshape((250, 196, 48, 40))\n",
    "    X = X.transpose(0, 3, 1, 2)\n",
    "    X = X.reshape((10000, 196, 48))\n",
    "    k=0\n",
    "    for i in range(10):\n",
    "        X_label = X[k:k+counts[i],:,:]\n",
    "        X_label = X_label.mean(axis=0)\n",
    "        neuronimage.append(X_label)\n",
    "        k += counts[i]\n",
    "    neuronimage = np.array(neuronimage)\n",
    "    return neuronimage\n",
    "\n",
    "def average_image_v(X_history, labelslist):\n",
    "\n",
    "    neuronimage = []\n",
    "    labelslist_array = convert_history(labelslist)\n",
    "    order= np.argsort(labelslist_array.flatten())\n",
    "    labelslist_array = labelslist_array.flatten()[order]\n",
    "    # find number of 0, 1, 2, 3, 4, 5, 6, 7, 8, 9\n",
    "    _, counts = np.unique(labelslist_array, return_counts=True)\n",
    "    X  = convert_history(X_history)\n",
    "    X = X.transpose(0, 2, 1)\n",
    "    X = X.reshape((250, 196, 48, 40))\n",
    "    X = X.transpose(0, 3, 1, 2)\n",
    "    X = X.reshape((10000, 196, 48))\n",
    "    k=0\n",
    "    for i in range(10):\n",
    "        X_label = X[k:k+counts[i],:,:]\n",
    "        X_label = X_label.mean(axis=0)\n",
    "        neuronimage.append(X_label)\n",
    "        k += counts[i]\n",
    "    neuronimage = np.array(neuronimage)\n",
    "    return neuronimage\n",
    "\n",
    "\n",
    "def average_timechunk(X_history):\n",
    "    X = convert_history(X_history)\n",
    "    X = X.transpose(0, 2, 1)\n",
    "    X = X.reshape((250, 196, 48, 40))\n",
    "    X = X.transpose(0, 3, 1, 2)\n",
    "    X = X.reshape((10000, 196, 48))\n",
    "    X = X.mean(axis=0)\n",
    "    X1, X2, X3, X4 = np.split(X, 4, axis=1)\n",
    "    return X1, X2, X3, X4"
   ]
  },
  {
   "cell_type": "code",
   "execution_count": 21,
   "metadata": {},
   "outputs": [
    {
     "ename": "ValueError",
     "evalue": "need at least one array to stack",
     "output_type": "error",
     "traceback": [
      "\u001b[1;31m---------------------------------------------------------------------------\u001b[0m",
      "\u001b[1;31mValueError\u001b[0m                                Traceback (most recent call last)",
      "Cell \u001b[1;32mIn[21], line 7\u001b[0m\n\u001b[0;32m      4\u001b[0m \u001b[38;5;28;01mimport\u001b[39;00m \u001b[38;5;21;01mnumpy\u001b[39;00m \u001b[38;5;28;01mas\u001b[39;00m \u001b[38;5;21;01mnp\u001b[39;00m\n\u001b[0;32m      5\u001b[0m \u001b[38;5;28;01mimport\u001b[39;00m \u001b[38;5;21;01mpandas\u001b[39;00m \u001b[38;5;28;01mas\u001b[39;00m \u001b[38;5;21;01mpd\u001b[39;00m\n\u001b[1;32m----> 7\u001b[0m v_nt \u001b[38;5;241m=\u001b[39m \u001b[43maverage_image\u001b[49m\u001b[43m(\u001b[49m\u001b[43mv_t_history\u001b[49m\u001b[43m,\u001b[49m\u001b[43m \u001b[49m\u001b[43mlabelslist\u001b[49m\u001b[43m)\u001b[49m\n",
      "Cell \u001b[1;32mIn[19], line 21\u001b[0m, in \u001b[0;36maverage_image\u001b[1;34m(X_history, labelslist)\u001b[0m\n\u001b[0;32m     19\u001b[0m \u001b[38;5;66;03m# find number of 0, 1, 2, 3, 4, 5, 6, 7, 8, 9\u001b[39;00m\n\u001b[0;32m     20\u001b[0m _, counts \u001b[38;5;241m=\u001b[39m np\u001b[38;5;241m.\u001b[39munique(labelslist_array, return_counts\u001b[38;5;241m=\u001b[39m\u001b[38;5;28;01mTrue\u001b[39;00m)\n\u001b[1;32m---> 21\u001b[0m X  \u001b[38;5;241m=\u001b[39m \u001b[43mconvert_history\u001b[49m\u001b[43m(\u001b[49m\u001b[43mX_history\u001b[49m\u001b[43m)\u001b[49m\n\u001b[0;32m     22\u001b[0m X \u001b[38;5;241m=\u001b[39m X\u001b[38;5;241m.\u001b[39mreshape((\u001b[38;5;241m250\u001b[39m, \u001b[38;5;241m196\u001b[39m, \u001b[38;5;241m48\u001b[39m, \u001b[38;5;241m40\u001b[39m))\n\u001b[0;32m     23\u001b[0m X \u001b[38;5;241m=\u001b[39m X\u001b[38;5;241m.\u001b[39mtranspose(\u001b[38;5;241m0\u001b[39m, \u001b[38;5;241m3\u001b[39m, \u001b[38;5;241m1\u001b[39m, \u001b[38;5;241m2\u001b[39m)\n",
      "Cell \u001b[1;32mIn[19], line 8\u001b[0m, in \u001b[0;36mconvert_history\u001b[1;34m(history_list)\u001b[0m\n\u001b[0;32m      6\u001b[0m     batch_history \u001b[38;5;241m=\u001b[39m [tensor\u001b[38;5;241m.\u001b[39mcpu()\u001b[38;5;241m.\u001b[39mnumpy() \u001b[38;5;28;01mfor\u001b[39;00m tensor \u001b[38;5;129;01min\u001b[39;00m batch]\n\u001b[0;32m      7\u001b[0m     \u001b[38;5;66;03m# Stack along a new dimension to keep batch data separate\u001b[39;00m\n\u001b[1;32m----> 8\u001b[0m     concatenated_history\u001b[38;5;241m.\u001b[39mappend(\u001b[43mnp\u001b[49m\u001b[38;5;241;43m.\u001b[39;49m\u001b[43mstack\u001b[49m\u001b[43m(\u001b[49m\u001b[43mbatch_history\u001b[49m\u001b[43m)\u001b[49m)\n\u001b[0;32m      9\u001b[0m \u001b[38;5;66;03m# Concatenate all the batch data along the first dimension\u001b[39;00m\n\u001b[0;32m     10\u001b[0m \u001b[38;5;28;01mreturn\u001b[39;00m np\u001b[38;5;241m.\u001b[39mconcatenate(concatenated_history, axis\u001b[38;5;241m=\u001b[39m\u001b[38;5;241m0\u001b[39m)\n",
      "File \u001b[1;32m<__array_function__ internals>:200\u001b[0m, in \u001b[0;36mstack\u001b[1;34m(*args, **kwargs)\u001b[0m\n",
      "File \u001b[1;32mc:\\Users\\yawen cheng\\Python_3.11\\Lib\\site-packages\\numpy\\core\\shape_base.py:460\u001b[0m, in \u001b[0;36mstack\u001b[1;34m(arrays, axis, out, dtype, casting)\u001b[0m\n\u001b[0;32m    458\u001b[0m arrays \u001b[38;5;241m=\u001b[39m [asanyarray(arr) \u001b[38;5;28;01mfor\u001b[39;00m arr \u001b[38;5;129;01min\u001b[39;00m arrays]\n\u001b[0;32m    459\u001b[0m \u001b[38;5;28;01mif\u001b[39;00m \u001b[38;5;129;01mnot\u001b[39;00m arrays:\n\u001b[1;32m--> 460\u001b[0m     \u001b[38;5;28;01mraise\u001b[39;00m \u001b[38;5;167;01mValueError\u001b[39;00m(\u001b[38;5;124m'\u001b[39m\u001b[38;5;124mneed at least one array to stack\u001b[39m\u001b[38;5;124m'\u001b[39m)\n\u001b[0;32m    462\u001b[0m shapes \u001b[38;5;241m=\u001b[39m {arr\u001b[38;5;241m.\u001b[39mshape \u001b[38;5;28;01mfor\u001b[39;00m arr \u001b[38;5;129;01min\u001b[39;00m arrays}\n\u001b[0;32m    463\u001b[0m \u001b[38;5;28;01mif\u001b[39;00m \u001b[38;5;28mlen\u001b[39m(shapes) \u001b[38;5;241m!=\u001b[39m \u001b[38;5;241m1\u001b[39m:\n",
      "\u001b[1;31mValueError\u001b[0m: need at least one array to stack"
     ]
    }
   ],
   "source": [
    "# Plot sns jointplot of z_t and v_t\n",
    "import seaborn as sns\n",
    "import matplotlib.pyplot as plt\n",
    "import numpy as np\n",
    "import pandas as pd\n",
    "\n",
    "v_nt = average_image(v_t_history, labelslist)"
   ]
  }
 ],
 "metadata": {
  "kernelspec": {
   "display_name": "Python 3",
   "language": "python",
   "name": "python3"
  },
  "language_info": {
   "codemirror_mode": {
    "name": "ipython",
    "version": 3
   },
   "file_extension": ".py",
   "mimetype": "text/x-python",
   "name": "python",
   "nbconvert_exporter": "python",
   "pygments_lexer": "ipython3",
   "version": "3.11.4"
  }
 },
 "nbformat": 4,
 "nbformat_minor": 2
}
